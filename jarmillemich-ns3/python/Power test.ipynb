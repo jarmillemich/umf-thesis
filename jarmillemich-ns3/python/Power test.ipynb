{
 "cells": [
  {
   "cell_type": "code",
   "execution_count": 1,
   "metadata": {},
   "outputs": [
    {
     "name": "stdout",
     "output_type": "stream",
     "text": [
      "0.07090964700870064/pi + 0.016779217441775046 703878.3698176955 0.00500878275844545\n",
      "0.07090964700870064/pi + 0.016779217441775046 703878.3698176955 0.00500878275844545\n",
      "0.07090964700870064/pi + 0.016779217441775046 703878.3698176955 0.00500878275844545\n",
      "0.07090964700870064/pi + 0.016779217441775046 703878.3698176955 0.00500878275844545\n",
      "0.07090964700870064/pi + 0.016779217441775046 703878.3698176955 0.00500878275844545\n",
      "0.07090964700870064/pi + 0.016779217441775046 703878.3698176955 0.00500878275844545\n",
      "0.07090964700870064/pi + 0.016779217441775046 703878.3698176955 0.00500878275844545\n",
      "0.07090964700870064/pi + 0.016779217441775046 703878.3698176955 0.00500878275844545\n",
      "0.07090964700870064/pi + 0.016779217441775046 703878.3698176955 0.00500878275844545\n",
      "0.07090964700870064/pi + 0.016779217441775046 703878.3698176955 0.00500878275844545\n",
      "0.07090964700870064/pi + 0.016779217441775046 703878.3698176955 0.00500878275844545\n",
      "0.07090964700870064/pi + 0.016779217441775046 703878.3698176955 0.00500878275844545\n",
      "0.07090964700870064/pi + 0.016779217441775046 703878.3698176955 0.00500878275844545\n",
      "0.07090964700870064/pi + 0.016779217441775046 703878.3698176955 0.00500878275844545\n",
      "0.07090964700870064/pi + 0.016779217441775046 703878.3698176955 0.00500878275844545\n",
      "0.07090964700870064/pi + 0.016779217441775046 703878.3698176955 0.00500878275844545\n",
      "0.07090964700870064/pi + 0.016779217441775046 703878.3698176955 0.00500878275844545\n",
      "0.07090964700870064/pi + 0.016779217441775046 703878.3698176955 0.00500878275844545\n",
      "0.07090964700870064/pi + 0.016779217441775046 703878.3698176955 0.00500878275844545\n",
      "0.07090964700870064/pi + 0.016779217441775046 703878.3698176955 0.00500878275844545\n",
      "0.07090964700870064/pi + 0.016779217441775046 703878.3698176955 0.00500878275844545\n",
      "0.07090964700870064/pi + 0.016779217441775046 703878.3698176955 0.00500878275844545\n",
      "0.07090964700870064/pi + 0.016779217441775046 703878.3698176955 0.00500878275844545\n",
      "0.07090964700870064/pi + 0.016779217441775046 703878.3698176955 0.00500878275844545\n",
      "0.07090964700870064/pi + 0.016779217441775046 703878.3698176955 0.00500878275844545\n",
      "0.07090964700870064/pi + 0.016779217441775046 703878.3698176955 0.00500878275844545\n",
      "0.07090964700870064/pi + 0.016779217441775046 703878.3698176955 0.00500878275844545\n",
      "0.07090964700870064/pi + 0.016779217441775046 703878.3698176955 0.00500878275844545\n",
      "0.07090964700870064/pi + 0.016779217441775046 703878.3698176955 0.00500878275844545\n",
      "0.07090964700870064/pi + 0.016779217441775046 703878.3698176955 0.00500878275844545\n",
      "0.07090964700870064/pi + 0.016779217441775046 703878.3698176955 0.00500878275844545\n",
      "0.07090964700870064/pi + 0.016779217441775046 703878.3698176955 0.00500878275844545\n",
      "0.07090964700870064/pi + 0.016779217441775046 703878.3698176955 0.00500878275844545\n",
      "0.07090964700870064/pi + 0.016779217441775046 703878.3698176955 0.00500878275844545\n",
      "0.07090964700870064/pi + 0.016779217441775046 703878.3698176955 0.00500878275844545\n",
      "0.07090964700870064/pi + 0.016779217441775046 703878.3698176955 0.00500878275844545\n",
      "0.07090964700870064/pi + 0.016779217441775046 703878.3698176955 0.00500878275844545\n",
      "0.07090964700870064/pi + 0.016779217441775046 703878.3698176955 0.00500878275844545\n",
      "0.07090964700870064/pi + 0.016779217441775046 703878.3698176955 0.00500878275844545\n",
      "0.07090964700870064/pi + 0.016779217441775046 703878.3698176955 0.00500878275844545\n",
      "0.07090964700870064/pi + 0.016779217441775046 703878.3698176955 0.00500878275844545\n",
      "0.07090964700870064/pi + 0.016779217441775046 703878.3698176955 0.00500878275844545\n",
      "0.07090964700870064/pi + 0.016779217441775046 703878.3698176955 0.00500878275844545\n",
      "0.07090964700870064/pi + 0.016779217441775046 703878.3698176955 0.00500878275844545\n",
      "0.07090964700870064/pi + 0.016779217441775046 703878.3698176955 0.00500878275844545\n",
      "0.07090964700870064/pi + 0.016779217441775046 703878.3698176955 0.00500878275844545\n",
      "0.07090964700870064/pi + 0.016779217441775046 703878.3698176955 0.00500878275844545\n",
      "0.07090964700870064/pi + 0.016779217441775046 703878.3698176955 0.00500878275844545\n",
      "0.07090964700870064/pi + 0.016779217441775046 703878.3698176955 0.00500878275844545\n",
      "0.07090964700870064/pi + 0.016779217441775046 703878.3698176955 0.00500878275844545\n",
      "0.07090964700870064/pi + 0.016779217441775046 703878.3698176955 0.00500878275844545\n",
      "0.07090964700870064/pi + 0.016779217441775046 703878.3698176955 0.00500878275844545\n",
      "0.07090964700870064/pi + 0.016779217441775046 703878.3698176955 0.00500878275844545\n",
      "0.07090964700870064/pi + 0.016779217441775046 703878.3698176955 0.00500878275844545\n",
      "0.07090964700870064/pi + 0.016779217441775046 703878.3698176955 0.00500878275844545\n",
      "0.07090964700870064/pi + 0.016779217441775046 703878.3698176955 0.00500878275844545\n",
      "0.07090964700870064/pi + 0.016779217441775046 703878.3698176955 0.00500878275844545\n",
      "0.07090964700870064/pi + 0.016779217441775046 703878.3698176955 0.00500878275844545\n",
      "0.07090964700870064/pi + 0.016779217441775046 703878.3698176955 0.00500878275844545\n",
      "0.07090964700870064/pi + 0.016779217441775046 703878.3698176955 0.00500878275844545\n",
      "0.07090964700870064/pi + 0.016779217441775046 703878.3698176955 0.00500878275844545\n",
      "0.07090964700870064/pi + 0.016779217441775046 703878.3698176955 0.00500878275844545\n",
      "0.07090964700870064/pi + 0.016779217441775046 703878.3698176955 0.00500878275844545\n",
      "0.07090964700870064/pi + 0.016779217441775046 703878.3698176955 0.00500878275844545\n",
      "0.07090964700870064/pi + 0.016779217441775046 703878.3698176955 0.00500878275844545\n",
      "0.07090964700870064/pi + 0.016779217441775046 703878.3698176955 0.00500878275844545\n",
      "0.07090964700870064/pi + 0.016779217441775046 703878.3698176955 0.00500878275844545\n",
      "0.07090964700870064/pi + 0.016779217441775046 703878.3698176955 0.00500878275844545\n",
      "0.07090964700870064/pi + 0.016779217441775046 703878.3698176955 0.00500878275844545\n",
      "0.07090964700870064/pi + 0.016779217441775046 703878.3698176955 0.00500878275844545\n"
     ]
    },
    {
     "data": {
      "image/png": "[encoded data removed]",
      "text/plain": [
       "Graphics object consisting of 2 graphics primitives"
      ]
     },
     "execution_count": 1,
     "metadata": {},
     "output_type": "execute_result"
    }
   ],
   "source": [
    "import traceback\n",
    "import warnings\n",
    "import sys\n",
    "\n",
    "def warn_with_traceback(message, category, filename, lineno, file=None, line=None):\n",
    "\n",
    "    log = file if hasattr(file,'write') else sys.stderr\n",
    "    traceback.print_stack(file=log)\n",
    "    log.write(warnings.formatwarning(message, category, filename, lineno, line))\n",
    "\n",
    "warnings.showwarning = warn_with_traceback\n",
    "\n",
    "if 'thesis.Aircraft' in sys.modules: del sys.modules['thesis.Aircraft']\n",
    "from thesis.Aircraft import Aircraft\n",
    "\n",
    "craft = Aircraft(mass = 10)\n",
    "\n",
    "list_plot([\n",
    "    (h, craft.straightPower(θ = 0, α = 5, a = 0, h=h).n())\n",
    "    for h in [0,1000,2000,3000,4000,5000,6000,7000,8000,10000]\n",
    "], plotjoined=True) + \\\n",
    "list_plot([\n",
    "    (h, craft.turningPower(r=10, α=5, h=h).n())\n",
    "    for h in [0,1000,2000,3000,4000,5000,6000,7000,8000,10000]\n",
    "], plotjoined=True)\n",
    "\n",
    "#craft.turningPower(r=50, α=5, h=1000)"
   ]
  },
  {
   "cell_type": "code",
   "execution_count": 15,
   "metadata": {},
   "outputs": [
    {
     "data": {
      "text/plain": [
       "-6.145762838175103"
      ]
     },
     "execution_count": 15,
     "metadata": {},
     "output_type": "execute_result"
    }
   ],
   "source": [
    "import math\n",
    "\n",
    "dz = 60\n",
    "length_horizontal = 3000\n",
    "rad2deg = 180 / math.pi\n",
    "alpha = 5\n",
    "\n",
    "tilt = -(math.atan2(dz, length_horizontal) * rad2deg + alpha)\n",
    "\n",
    "tilt"
   ]
  },
  {
   "cell_type": "code",
   "execution_count": 51,
   "metadata": {},
   "outputs": [],
   "source": [
    "import pandas as pd\n",
    "import pvlib\n",
    "\n",
    "altitude = 1000\n",
    "\n",
    "#times = pd.date_range(start = '2020-11-28T08', end = '2020-11-30T08', freq='30S', tz='America/Detroit')\n",
    "\n",
    "\n",
    "tz, name = 'America/Detroit', 'Michigan'\n",
    "times = pd.date_range(start = '2020-11-28T08', end = '2020-11-28T13', freq='30S', tz='America/Detroit')\n",
    "loc = pvlib.location.Location(36, -84, tz, altitude, name)\n",
    "\n",
    "# Compute solar position parameters for each timeslot\n",
    "ephem_data = loc.get_solarposition(times)\n",
    "# Compute irradiation data for each timeslot\n",
    "irrad_data = loc.get_clearsky(times)\n",
    "# Extraterrestrial radiation value\n",
    "dni_et = pvlib.irradiance.get_extra_radiation\n",
    "\n",
    "# Sun position\n",
    "sun_zenith = ephem_data['apparent_zenith']\n",
    "sun_azimuth = ephem_data['azimuth']\n",
    "\n",
    "# Air mass\n",
    "AM = pvlib.atmosphere.get_relative_airmass(sun_zenith)\n",
    "\n",
    "surf_tilt = -5#pose['tilt']\n",
    "surf_azimuth = 0#pose['azimuth']\n",
    "\n",
    "pts = [(surf_tilt*10, surf_azimuth,\n",
    "pvlib.irradiance.get_total_irradiance(\n",
    "    surf_tilt, surf_azimuth,\n",
    "    sun_zenith, sun_azimuth,\n",
    "    dni = irrad_data['dni'], ghi = irrad_data['ghi'], dhi = irrad_data['dhi'],\n",
    "    dni_extra = dni_et,\n",
    "    model = 'klucher'\n",
    ").poa_global.max())\n",
    " for surf_tilt in range(-10, 10)\n",
    " for surf_azimuth in range(0, 360, 10)\n",
    "]\n",
    "\n",
    "#list_plot3d(pts)"
   ]
  },
  {
   "cell_type": "code",
   "execution_count": 145,
   "metadata": {},
   "outputs": [
    {
     "data": {
      "text/plain": [
       "1068.3884526704912"
      ]
     },
     "execution_count": 145,
     "metadata": {},
     "output_type": "execute_result"
    }
   ],
   "source": [
    "tz, name = 'America/Detroit', 'Michigan'\n",
    "times = pd.date_range(start = '2020-11-28T08', end = '2020-11-28T13', freq='30S', tz='America/Detroit')\n",
    "loc = pvlib.location.Location(36, -84, tz, 9000, name)\n",
    "\n",
    "# Compute solar position parameters for each timeslot\n",
    "ephem_data = loc.get_solarposition(times)\n",
    "# Compute irradiation data for each timeslot\n",
    "irrad_data = loc.get_clearsky(times)\n",
    "# Extraterrestrial radiation value\n",
    "dni_et = pvlib.irradiance.get_extra_radiation\n",
    "\n",
    "# Sun position\n",
    "sun_zenith = ephem_data['apparent_zenith']\n",
    "sun_azimuth = ephem_data['azimuth']\n",
    "\n",
    "# Air mass\n",
    "AM = pvlib.atmosphere.get_relative_airmass(sun_zenith)\n",
    "\n",
    "surf_tilt = -5#pose['tilt']\n",
    "surf_azimuth = 0#pose['azimuth']\n",
    "\n",
    "pvlib.irradiance.get_total_irradiance(\n",
    "    surf_tilt, surf_azimuth,\n",
    "    sun_zenith, sun_azimuth,\n",
    "    dni = irrad_data['dni'], ghi = irrad_data['ghi'], dhi = irrad_data['dhi'],\n",
    "    dni_extra = dni_et,\n",
    "    model = 'klucher'\n",
    ").poa_global.max()"
   ]
  },
  {
   "cell_type": "code",
   "execution_count": 130,
   "metadata": {},
   "outputs": [
    {
     "data": {
      "text/plain": [
       "OrderedDict([('ghi', 961.748734039637), ('dni', 1681.7109304184062), ('dhi', 45.82331572233295)])"
      ]
     },
     "execution_count": 130,
     "metadata": {},
     "output_type": "execute_result"
    }
   ],
   "source": [
    "# Airmass absolute goes from 1.657 to 0.567 1000->10000\n",
    "pvlib.clearsky.ineichen(57, 0.5, 1, 10000)"
   ]
  }
 ],
 "metadata": {
  "kernelspec": {
   "display_name": "SageMath 9.0",
   "language": "sage",
   "name": "sagemath"
  },
  "language_info": {
   "codemirror_mode": {
    "name": "ipython",
    "version": 3
   },
   "file_extension": ".py",
   "mimetype": "text/x-python",
   "name": "python",
   "nbconvert_exporter": "python",
   "pygments_lexer": "ipython3",
   "version": "3.8.5"
  }
 },
 "nbformat": 4,
 "nbformat_minor": 4
}
