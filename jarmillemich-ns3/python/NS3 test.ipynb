{
 "cells": [
  {
   "cell_type": "code",
   "execution_count": 4,
   "metadata": {},
   "outputs": [],
   "source": [
    "import ns.core\n",
    "import ns.applications\n",
    "import ns.internet\n",
    "import ns.network\n",
    "import ns.lte\n",
    "import ns.point_to_point\n",
    "import ns.mobility\n",
    "\n",
    "from ns.core import StringValue, DoubleValue, TimeValue, UintegerValue, MilliSeconds, Seconds\n",
    "from ns.internet import Ipv4\n",
    "from ns.network import Ipv4Address, Ipv4Mask"
   ]
  },
  {
   "cell_type": "code",
   "execution_count": 5,
   "metadata": {},
   "outputs": [],
   "source": [
    "# Reset our IP address space when we re-setup the simulation\n",
    "# XXX This may be ill-advised...\n",
    "ns.internet.Ipv4AddressGenerator.Reset()\n",
    "\n",
    "# NB These MUST NOT be re-invoked in the same process without resetting IP address space\n",
    "lteHelper = ns.lte.LteHelper()\n",
    "epcHelper = ns.lte.NoBackhaulEpcHelper()\n",
    "ipv4h = ns.internet.Ipv4AddressHelper()\n",
    "\n",
    "lteHelper.SetEpcHelper(epcHelper)\n",
    "pgw = epcHelper.GetPgwNode()\n",
    "\n",
    "# Create our remote host and internet link\n",
    "remoteHostContainer = ns.network.NodeContainer()\n",
    "remoteHostContainer.Create(1)\n",
    "remoteHost = remoteHostContainer.Get(0)\n",
    "internet = ns.internet.InternetStackHelper()\n",
    "internet.Install(remoteHostContainer)\n",
    "\n",
    "# Create our backhaul\n",
    "p2ph = ns.point_to_point.PointToPointHelper()\n",
    "\n",
    "p2ph.SetDeviceAttribute(\"DataRate\", StringValue(\"1Gbps\"))\n",
    "p2ph.SetDeviceAttribute(\"Mtu\", UintegerValue(int(1500)))\n",
    "p2ph.SetChannelAttribute(\"Delay\", TimeValue(MilliSeconds(int(20))))\n",
    "\n",
    "internetDevices = p2ph.Install(pgw, remoteHost)\n",
    "\n",
    "ipv4h.SetBase(Ipv4Address(\"1.0.0.0\"), Ipv4Mask(\"255.0.0.0\"))\n",
    "internetIpInterfaces = ipv4h.Assign(internetDevices)\n",
    "remoteHostAddr = internetIpInterfaces.GetAddress(1)\n",
    "\n",
    "routingHelper = ns.internet.Ipv4StaticRoutingHelper()\n",
    "remoteHostIpv4 = remoteHost.GetObject(Ipv4.GetTypeId())\n",
    "remoteHostStaticRouting = routingHelper.GetStaticRouting(remoteHostIpv4)\n",
    "remoteHostStaticRouting.AddNetworkRouteTo(Ipv4Address(\"7.0.0.0\"), Ipv4Mask(\"255.0.0.0\"), 1)\n",
    "\n",
    "# SGW node\n",
    "sgw = epcHelper.GetSgwNode()\n",
    "\n",
    "# Apparently SGW needs a mobility model?\n",
    "sgwLp = ns.mobility.ListPositionAllocator()\n",
    "sgwLp.Add(ns.core.Vector(0, 0, 0))\n",
    "sgwMob = ns.mobility.MobilityHelper()\n",
    "sgwMob.SetMobilityModel(\"ns3::ConstantPositionMobilityModel\")\n",
    "sgwMob.SetPositionAllocator(sgwLp)\n",
    "sgwMob.Install(sgw)"
   ]
  },
  {
   "cell_type": "code",
   "execution_count": 52,
   "metadata": {},
   "outputs": [],
   "source": [
    "ueNodes = ns.network.NodeContainer()\n",
    "enbNodes = ns.network.NodeContainer()\n",
    "\n",
    "# UE positions are static\n",
    "uePositionAlloc = ns.mobility.ListPositionAllocator()\n",
    "\n",
    "# ENB positions are high-flyin\n",
    "enbMobility = ns.mobility."
   ]
  },
  {
   "cell_type": "code",
   "execution_count": 40,
   "metadata": {},
   "outputs": [
    {
     "data": {
      "application/vnd.jupyter.widget-view+json": {
       "model_id": "60777a1917144332865f234f24aabd59",
       "version_major": 2,
       "version_minor": 0
      },
      "text/plain": [
       "HBox(children=(HTML(value=''), FloatProgress(value=1.0, min=0.0, max=1.0), HTML(value='')))"
      ]
     },
     "metadata": {},
     "output_type": "display_data"
    },
    {
     "name": "stdout",
     "output_type": "stream",
     "text": [
      "T=0\n"
     ]
    }
   ],
   "source": [
    "from tqdm.notebook import tqdm\n",
    "pbar = tqdm(unit='ms')\n",
    "\n",
    "\n",
    "\n",
    "def logTime():\n",
    "    now = ns.core.Simulator.Now().GetMilliSeconds()\n",
    "    print('T=%d' % (now))\n",
    "    pbar.n = int(now)\n",
    "    pbar.update(int(0))\n",
    "    ns.core.Simulator.Schedule(MilliSeconds(int(500)), logTime)\n",
    "    \n",
    "\n"
   ]
  },
  {
   "cell_type": "code",
   "execution_count": 10,
   "metadata": {},
   "outputs": [
    {
     "ename": "NameError",
     "evalue": "name 'pbar' is not defined",
     "output_type": "error",
     "traceback": [
      "\u001b[0;31m---------------------------------------------------------------------------\u001b[0m",
      "\u001b[0;31mNameError\u001b[0m                                 Traceback (most recent call last)",
      "\u001b[0;32m<ipython-input-10-f100ffa37220>\u001b[0m in \u001b[0;36m<module>\u001b[0;34m\u001b[0m\n\u001b[0;32m----> 1\u001b[0;31m \u001b[0mpbar\u001b[0m\u001b[0;34m.\u001b[0m\u001b[0mreset\u001b[0m\u001b[0;34m(\u001b[0m\u001b[0mtotal\u001b[0m \u001b[0;34m=\u001b[0m \u001b[0mint\u001b[0m\u001b[0;34m(\u001b[0m\u001b[0mInteger\u001b[0m\u001b[0;34m(\u001b[0m\u001b[0;36m2000\u001b[0m\u001b[0;34m)\u001b[0m\u001b[0;34m)\u001b[0m\u001b[0;34m)\u001b[0m\u001b[0;34m\u001b[0m\u001b[0;34m\u001b[0m\u001b[0m\n\u001b[0m\u001b[1;32m      2\u001b[0m \u001b[0;34m\u001b[0m\u001b[0m\n\u001b[1;32m      3\u001b[0m \u001b[0mlogTime\u001b[0m\u001b[0;34m(\u001b[0m\u001b[0;34m)\u001b[0m\u001b[0;34m\u001b[0m\u001b[0;34m\u001b[0m\u001b[0m\n\u001b[1;32m      4\u001b[0m \u001b[0mns\u001b[0m\u001b[0;34m.\u001b[0m\u001b[0mcore\u001b[0m\u001b[0;34m.\u001b[0m\u001b[0mSimulator\u001b[0m\u001b[0;34m.\u001b[0m\u001b[0mStop\u001b[0m\u001b[0;34m(\u001b[0m\u001b[0mSeconds\u001b[0m\u001b[0;34m(\u001b[0m\u001b[0mRealNumber\u001b[0m\u001b[0;34m(\u001b[0m\u001b[0;34m'2.001'\u001b[0m\u001b[0;34m)\u001b[0m\u001b[0;34m)\u001b[0m\u001b[0;34m)\u001b[0m\u001b[0;34m\u001b[0m\u001b[0;34m\u001b[0m\u001b[0m\n\u001b[1;32m      5\u001b[0m \u001b[0mns\u001b[0m\u001b[0;34m.\u001b[0m\u001b[0mcore\u001b[0m\u001b[0;34m.\u001b[0m\u001b[0mSimulator\u001b[0m\u001b[0;34m.\u001b[0m\u001b[0mRun\u001b[0m\u001b[0;34m(\u001b[0m\u001b[0;34m)\u001b[0m\u001b[0;34m\u001b[0m\u001b[0;34m\u001b[0m\u001b[0m\n",
      "\u001b[0;31mNameError\u001b[0m: name 'pbar' is not defined"
     ]
    }
   ],
   "source": [
    "pbar.reset(total = int(2000))\n",
    "\n",
    "logTime()\n",
    "ns.core.Simulator.Stop(Seconds(2.001))\n",
    "ns.core.Simulator.Run()\n",
    "ns.core.Simulator.Destroy()\n",
    "pbar.refresh()\n"
   ]
  },
  {
   "cell_type": "code",
   "execution_count": 29,
   "metadata": {},
   "outputs": [
    {
     "data": {
      "application/vnd.jupyter.widget-view+json": {
       "model_id": "c330dbc5045f49508f3c719c62a9ab16",
       "version_major": 2,
       "version_minor": 0
      },
      "text/plain": [
       "HBox(children=(HTML(value=''), FloatProgress(value=0.0, min=0.0, max=100.0), HTML(value='')))"
      ]
     },
     "metadata": {},
     "output_type": "display_data"
    }
   ],
   "source": [
    "if 'tqdm.notebook' in sys.modules: del sys.modules['tqdm.notebook']\n",
    "from tqdm.notebook import tqdm\n",
    "from time import sleep\n",
    "\n",
    "q = tqdm(total = int(100))\n",
    "q.update(int(5))\n",
    "sleep(1)\n",
    "q.update(int(5))\n",
    "sleep(1)"
   ]
  },
  {
   "cell_type": "code",
   "execution_count": 4,
   "metadata": {},
   "outputs": [
    {
     "data": {
      "text/plain": [
       "<mobility.PathMobilityModel object at 0x7ff6bd349d80>"
      ]
     },
     "execution_count": 4,
     "metadata": {},
     "output_type": "execute_result"
    }
   ],
   "source": [
    "if 'ns.mobility' in sys.modules: del sys.modules['ns.mobility']\n",
    "from ns.mobility import Vector\n",
    "    \n",
    "import ns.mobility\n",
    "\n",
    "seg = ns.mobility.PathMobilityModelSegments.LineSegment(Vector(1,2,3),Vector(2,3,4),10)\n",
    "\n",
    "thing = ns.mobility.PathMobilityModel()\n",
    "thing.AddSegment(seg)\n",
    "\n",
    "thing"
   ]
  },
  {
   "cell_type": "code",
   "execution_count": 31,
   "metadata": {},
   "outputs": [
    {
     "data": {
      "text/plain": [
       "(0.16, 1.9237604307034013, 2.9237604307034015, 3.9237604307034015)"
      ]
     },
     "execution_count": 31,
     "metadata": {},
     "output_type": "execute_result"
    }
   ],
   "source": [
    "from ns.core import Seconds\n",
    "ns.core.Simulator.Destroy()\n",
    "ns.core.Simulator.Stop(Seconds(0.16))\n",
    "ns.core.Simulator.Run()\n",
    "a=thing.GetPosition()\n",
    "ns.core.Simulator.Now().GetSeconds(), a.x, a.y, a.z"
   ]
  },
  {
   "cell_type": "code",
   "execution_count": 7,
   "metadata": {},
   "outputs": [
    {
     "data": {
      "text/plain": [
       "<class 'applications.PacketSinkHelper'>"
      ]
     },
     "execution_count": 7,
     "metadata": {},
     "output_type": "execute_result"
    }
   ],
   "source": [
    "import ns.core\n",
    "import ns.internet\n",
    "import ns.applications\n",
    "ns.applications.PacketSinkHelper"
   ]
  }
 ],
 "metadata": {
  "kernelspec": {
   "display_name": "SageMath 9.0",
   "language": "sage",
   "name": "sagemath"
  },
  "language_info": {
   "codemirror_mode": {
    "name": "ipython",
    "version": 3
   },
   "file_extension": ".py",
   "mimetype": "text/x-python",
   "name": "python",
   "nbconvert_exporter": "python",
   "pygments_lexer": "ipython3",
   "version": "3.8.5"
  }
 },
 "nbformat": 4,
 "nbformat_minor": 4
}
